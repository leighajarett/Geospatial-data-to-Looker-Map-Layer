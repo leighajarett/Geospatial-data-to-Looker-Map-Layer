{
 "cells": [
  {
   "cell_type": "markdown",
   "metadata": {},
   "source": [
    "# Converting sets of polygon coordinates to topojson files"
   ]
  },
  {
   "cell_type": "markdown",
   "metadata": {},
   "source": [
    "Import packages"
   ]
  },
  {
   "cell_type": "code",
   "execution_count": 2,
   "metadata": {},
   "outputs": [],
   "source": [
    "import pandas as pd\n",
    "import ast\n",
    "import copy"
   ]
  },
  {
   "cell_type": "markdown",
   "metadata": {},
   "source": [
    "Load pandas table, first column is the id for the shape, second column is the coordinates transformed to geojson format using SQL query"
   ]
  },
  {
   "cell_type": "markdown",
   "metadata": {},
   "source": [
    "\n",
    "##### Example of SQL Query  #####\n",
    "\n",
    "select id, ST_AsGeoJSON(geom)\n",
    "from\n",
    "table_name ;;\n"
   ]
  },
  {
   "cell_type": "code",
   "execution_count": 18,
   "metadata": {},
   "outputs": [],
   "source": [
    "query_results = pd.read_excel(\"/Users/leighajarett/Downloads/sql_runner_xbvrkqs2dysbs5_2019-07-24_21-10-48.xlsx\")"
   ]
  },
  {
   "cell_type": "markdown",
   "metadata": {},
   "source": [
    "Create the outer dictionary format, formatted so that the property key (field_id) can be used as a map layer in Looker"
   ]
  },
  {
   "cell_type": "code",
   "execution_count": 4,
   "metadata": {},
   "outputs": [],
   "source": [
    "outer_dictionary = dict()\n",
    "outer_dictionary[\"type\"] = \"Feature\"\n",
    "outer_dictionary[\"properties\"] = dict()\n",
    "outer_dictionary[\"properties\"][\"stroke\"] = \"#555555\"\n",
    "outer_dictionary[\"properties\"][\"stroke-width\"] = 2\n",
    "outer_dictionary[\"properties\"][\"stroke-opacity\"] = 1\n",
    "outer_dictionary[\"properties\"][\"fill\"] = \"#555555\"\n",
    "outer_dictionary[\"properties\"][\"fill-opacity\"] = 0.5\n",
    "outer_dictionary[\"properties\"][\"field_id\"] = -1\n",
    "outer_dictionary[\"geometry\"] = None"
   ]
  },
  {
   "cell_type": "code",
   "execution_count": 5,
   "metadata": {},
   "outputs": [
    {
     "data": {
      "text/plain": [
       "{'type': 'Feature',\n",
       " 'properties': {'stroke': '#555555',\n",
       "  'stroke-width': 2,\n",
       "  'stroke-opacity': 1,\n",
       "  'fill': '#555555',\n",
       "  'fill-opacity': 0.5,\n",
       "  'field_id': -1},\n",
       " 'geometry': None}"
      ]
     },
     "execution_count": 5,
     "metadata": {},
     "output_type": "execute_result"
    }
   ],
   "source": [
    "outer_dictionary"
   ]
  },
  {
   "cell_type": "markdown",
   "metadata": {},
   "source": [
    "Make a list of the outer dictionary repeated and save it to the dataframe"
   ]
  },
  {
   "cell_type": "code",
   "execution_count": 6,
   "metadata": {},
   "outputs": [],
   "source": [
    "outer_dictionary_list = [outer_dictionary] * len(query_results)\n",
    "query_results['outer_dictionary'] = outer_dictionary_list"
   ]
  },
  {
   "cell_type": "markdown",
   "metadata": {},
   "source": [
    "Convert the column to a dictionary"
   ]
  },
  {
   "cell_type": "code",
   "execution_count": 7,
   "metadata": {},
   "outputs": [],
   "source": [
    "query_results['a'] = query_results['a'].apply(lambda x: ast.literal_eval(x))"
   ]
  },
  {
   "cell_type": "markdown",
   "metadata": {},
   "source": [
    "Function to fill the outer dictionary values"
   ]
  },
  {
   "cell_type": "code",
   "execution_count": 8,
   "metadata": {},
   "outputs": [],
   "source": [
    "def fill_dictionary(row):\n",
    "    outer_dict = copy.deepcopy(row['outer_dictionary'])\n",
    "    outer_dict['geometry'] = row['a']\n",
    "    outer_dict['properties']['field_id'] = row['id']\n",
    "    return outer_dict"
   ]
  },
  {
   "cell_type": "code",
   "execution_count": 9,
   "metadata": {},
   "outputs": [],
   "source": [
    "query_results['filled_dictionary'] = query_results.apply(fill_dictionary, axis=1)\n",
    "filled_dictionary_list = list(query_results['filled_dictionary'])"
   ]
  },
  {
   "cell_type": "markdown",
   "metadata": {},
   "source": [
    "Create final dictionary and save as a geojson file"
   ]
  },
  {
   "cell_type": "code",
   "execution_count": 11,
   "metadata": {},
   "outputs": [],
   "source": [
    "final_dictionary = dict()\n",
    "final_dictionary['type'] = \"FeatureCollection\"\n",
    "final_dictionary['features'] = filled_dictionary_list"
   ]
  },
  {
   "cell_type": "code",
   "execution_count": 12,
   "metadata": {},
   "outputs": [],
   "source": [
    "geo_json_file = open(\"/Users/leighajarett/Desktop/tillable.geojson\",\"w\") \n",
    "geo_json_file.write(str(final_dictionary).replace(\"'\",'\"'))\n",
    "geo_json_file.close()"
   ]
  },
  {
   "cell_type": "markdown",
   "metadata": {},
   "source": [
    "Now you can convert this file to a topojson file using https://mapshaper.org/"
   ]
  },
  {
   "cell_type": "markdown",
   "metadata": {},
   "source": [
    "Add this topojson as a map_layer in the lookml model file, specifying field_id as the property key, then this custom map_layer can be used with the dimension that corresponds to field_id"
   ]
  }
 ],
 "metadata": {
  "kernelspec": {
   "display_name": "Python 3",
   "language": "python",
   "name": "python3"
  },
  "language_info": {
   "codemirror_mode": {
    "name": "ipython",
    "version": 3
   },
   "file_extension": ".py",
   "mimetype": "text/x-python",
   "name": "python",
   "nbconvert_exporter": "python",
   "pygments_lexer": "ipython3",
   "version": "3.6.5"
  }
 },
 "nbformat": 4,
 "nbformat_minor": 2
}
